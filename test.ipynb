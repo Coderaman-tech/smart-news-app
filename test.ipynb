{
  "cells": [
    {
      "cell_type": "code",
      "execution_count": 1,
      "metadata": {
        "id": "6lb2e6T-jsaH"
      },
      "outputs": [],
      "source": [
        "import numpy as np\n",
        "import pandas as pd\n",
        "import csv"
      ]
    },
    {
      "cell_type": "code",
      "execution_count": 2,
      "metadata": {
        "colab": {
          "base_uri": "https://localhost:8080/"
        },
        "id": "3K1BIPYuzsn4",
        "outputId": "0d507d1b-9d50-4d42-f435-75c528c9230e"
      },
      "outputs": [
        {
          "name": "stdout",
          "output_type": "stream",
          "text": [
            "Mounted at /content/drive\n"
          ]
        }
      ],
      "source": [
        "from google.colab import drive\n",
        "drive.mount('/content/drive')"
      ]
    },
    {
      "cell_type": "code",
      "execution_count": 3,
      "metadata": {
        "id": "FXJaytd3z7Zx"
      },
      "outputs": [],
      "source": [
        "!cp -r drive/MyDrive/smart-news-website/ /content/smart-news-website"
      ]
    },
    {
      "cell_type": "code",
      "execution_count": 4,
      "metadata": {
        "colab": {
          "base_uri": "https://localhost:8080/"
        },
        "id": "QeWZnP4R7-L0",
        "outputId": "4ceb4e52-5ad3-455f-9ec5-3d8017671383"
      },
      "outputs": [
        {
          "name": "stdout",
          "output_type": "stream",
          "text": [
            "/content/smart-news-website\n"
          ]
        }
      ],
      "source": [
        "%cd smart-news-website/"
      ]
    },
    {
      "cell_type": "code",
      "execution_count": null,
      "metadata": {
        "colab": {
          "base_uri": "https://localhost:8080/"
        },
        "id": "_IXbTLF91d2S",
        "outputId": "2656648a-5838-4cb0-e397-04db5034a59d"
      },
      "outputs": [
        {
          "name": "stdout",
          "output_type": "stream",
          "text": [
            "[nltk_data] Downloading package stopwords to /root/nltk_data...\n",
            "[nltk_data]   Package stopwords is already up-to-date!\n"
          ]
        },
        {
          "data": {
            "text/plain": [
              "True"
            ]
          },
          "execution_count": 32,
          "metadata": {},
          "output_type": "execute_result"
        }
      ],
      "source": [
        "import nltk\n",
        "nltk.download('stopwords')"
      ]
    },
    {
      "cell_type": "code",
      "execution_count": null,
      "metadata": {
        "id": "QALyVHDIjsaR"
      },
      "outputs": [],
      "source": [
        "fake_news = pd.read_csv('/content/smart-news-website/FakeNews/Fake.csv')\n",
        "true_news = pd.read_csv('/content/smart-news-website/FakeNews/True.csv')"
      ]
    },
    {
      "cell_type": "code",
      "execution_count": null,
      "metadata": {
        "colab": {
          "base_uri": "https://localhost:8080/"
        },
        "id": "-4RzZe6DClOr",
        "outputId": "e39b325c-b9f6-4a78-eca2-daae80e4d98f"
      },
      "outputs": [
        {
          "data": {
            "text/plain": [
              "0        Donald Trump just couldn t wish all Americans ...\n",
              "1        House Intelligence Committee Chairman Devin Nu...\n",
              "2        On Friday, it was revealed that former Milwauk...\n",
              "3        On Christmas day, Donald Trump announced that ...\n",
              "4        Pope Francis used his annual Christmas Day mes...\n",
              "                               ...                        \n",
              "23476    21st Century Wire says As 21WIRE reported earl...\n",
              "23477    21st Century Wire says It s a familiar theme. ...\n",
              "23478    Patrick Henningsen  21st Century WireRemember ...\n",
              "23479    21st Century Wire says Al Jazeera America will...\n",
              "23480    21st Century Wire says As 21WIRE predicted in ...\n",
              "Name: text, Length: 23481, dtype: object"
            ]
          },
          "execution_count": 34,
          "metadata": {},
          "output_type": "execute_result"
        }
      ],
      "source": [
        "fake_news = fake_news['text']\n",
        "true_news = true_news['text']\n",
        "\n",
        "fake_news"
      ]
    },
    {
      "cell_type": "code",
      "execution_count": null,
      "metadata": {
        "colab": {
          "base_uri": "https://localhost:8080/"
        },
        "id": "3NAse6gfjsac",
        "outputId": "231635c7-1141-4dd6-a8cd-134201461c88"
      },
      "outputs": [
        {
          "data": {
            "text/plain": [
              "0    donald trump wish americans happy new year lea...\n",
              "1    house intelligence committee chairman devin nu...\n",
              "2    friday -PRON- reveal former milwaukee sheriff ...\n",
              "3    christmas day donald trump announce -PRON- wou...\n",
              "4    pope francis use -PRON- annual christmas day m...\n",
              "Name: text, dtype: object"
            ]
          },
          "execution_count": 35,
          "metadata": {},
          "output_type": "execute_result"
        }
      ],
      "source": [
        "from data import PreProcessor\n",
        "\n",
        "preproc = PreProcessor()\n",
        "\n",
        "fake_news = fake_news.apply(preproc.forward)\n",
        "true_news = true_news.apply(preproc.forward)\n",
        "\n",
        "fake_news.head()"
      ]
    },
    {
      "cell_type": "code",
      "execution_count": null,
      "metadata": {
        "id": "EL1cS0dgCvk2"
      },
      "outputs": [],
      "source": [
        "fake_news = pd.DataFrame(fake_news)\n",
        "true_news = pd.DataFrame(true_news)\n",
        "\n",
        "fake_news = fake_news.assign(is_fake = [1]*len(fake_news))\n",
        "true_news = true_news.assign(is_fake = [0]*len(true_news))"
      ]
    },
    {
      "cell_type": "code",
      "execution_count": null,
      "metadata": {
        "colab": {
          "base_uri": "https://localhost:8080/",
          "height": 207
        },
        "id": "6IiUwTTpjsae",
        "outputId": "2a59c747-4b63-4c82-d3aa-1134410fc145"
      },
      "outputs": [
        {
          "data": {
            "text/html": [
              "<div>\n",
              "<style scoped>\n",
              "    .dataframe tbody tr th:only-of-type {\n",
              "        vertical-align: middle;\n",
              "    }\n",
              "\n",
              "    .dataframe tbody tr th {\n",
              "        vertical-align: top;\n",
              "    }\n",
              "\n",
              "    .dataframe thead th {\n",
              "        text-align: right;\n",
              "    }\n",
              "</style>\n",
              "<table border=\"1\" class=\"dataframe\">\n",
              "  <thead>\n",
              "    <tr style=\"text-align: right;\">\n",
              "      <th></th>\n",
              "      <th>text</th>\n",
              "      <th>is_fake</th>\n",
              "    </tr>\n",
              "  </thead>\n",
              "  <tbody>\n",
              "    <tr>\n",
              "      <th>0</th>\n",
              "      <td>donald trump wish americans happy new year lea...</td>\n",
              "      <td>1</td>\n",
              "    </tr>\n",
              "    <tr>\n",
              "      <th>1</th>\n",
              "      <td>house intelligence committee chairman devin nu...</td>\n",
              "      <td>1</td>\n",
              "    </tr>\n",
              "    <tr>\n",
              "      <th>2</th>\n",
              "      <td>friday -PRON- reveal former milwaukee sheriff ...</td>\n",
              "      <td>1</td>\n",
              "    </tr>\n",
              "    <tr>\n",
              "      <th>3</th>\n",
              "      <td>christmas day donald trump announce -PRON- wou...</td>\n",
              "      <td>1</td>\n",
              "    </tr>\n",
              "    <tr>\n",
              "      <th>4</th>\n",
              "      <td>pope francis use -PRON- annual christmas day m...</td>\n",
              "      <td>1</td>\n",
              "    </tr>\n",
              "  </tbody>\n",
              "</table>\n",
              "</div>"
            ],
            "text/plain": [
              "                                                text  is_fake\n",
              "0  donald trump wish americans happy new year lea...        1\n",
              "1  house intelligence committee chairman devin nu...        1\n",
              "2  friday -PRON- reveal former milwaukee sheriff ...        1\n",
              "3  christmas day donald trump announce -PRON- wou...        1\n",
              "4  pope francis use -PRON- annual christmas day m...        1"
            ]
          },
          "execution_count": 37,
          "metadata": {},
          "output_type": "execute_result"
        }
      ],
      "source": [
        "fake_news.head()"
      ]
    },
    {
      "cell_type": "code",
      "execution_count": null,
      "metadata": {
        "id": "H2kUtPorO8-_"
      },
      "outputs": [],
      "source": [
        "fake_news.to_csv('Fake_news_preprocessed.csv')\n",
        "true_news.to_csv('True_news_preprocessed.csv')"
      ]
    },
    {
      "cell_type": "markdown",
      "metadata": {
        "id": "bKPAXMJ0USI0"
      },
      "source": [
        "## Checkpoint Preprocessing done"
      ]
    },
    {
      "cell_type": "code",
      "execution_count": 33,
      "metadata": {
        "id": "SZ5nbt2HURD7"
      },
      "outputs": [],
      "source": [
        "import pandas as pd\n",
        "fake_news = pd.read_csv('/content/smart-news-website/Fake_news_preprocessed.csv')\n",
        "true_news = pd.read_csv('/content/smart-news-website/True_news_preprocessed.csv')"
      ]
    },
    {
      "cell_type": "code",
      "execution_count": 34,
      "metadata": {
        "id": "xE_Z0GmqjEJM"
      },
      "outputs": [],
      "source": [
        "fake_news.dropna(axis=0, inplace=True)\n",
        "true_news.dropna(axis=0, inplace=True)"
      ]
    },
    {
      "cell_type": "code",
      "execution_count": 35,
      "metadata": {
        "id": "hZsbHd3ujsai"
      },
      "outputs": [],
      "source": [
        "from sklearn.model_selection import train_test_split\n",
        "\n",
        "train_fake_X, t_fake_X, train_fake_y, t_fake_y = train_test_split(fake_news.drop('is_fake', axis=1), fake_news['is_fake'], test_size=0.2, random_state=101)\n",
        "test_fake_X, val_fake_X, test_fake_y, val_fake_y = train_test_split(t_fake_X, t_fake_y, test_size=0.5, random_state=101)\n",
        "\n",
        "train_true_X, t_true_X, train_true_y, t_true_y = train_test_split(true_news.drop('is_fake', axis=1), true_news['is_fake'], test_size=0.2, random_state=101)\n",
        "test_true_X, val_true_X, test_true_y, val_true_y = train_test_split(t_true_X, t_true_y, test_size=0.5, random_state=101)"
      ]
    },
    {
      "cell_type": "code",
      "execution_count": 36,
      "metadata": {
        "id": "Wk6cUPChjsak"
      },
      "outputs": [],
      "source": [
        "# Joining fake and true dataframes\n",
        "\n",
        "train_X = pd.concat([train_fake_X, train_true_X])\n",
        "val_X = pd.concat([val_fake_X, val_true_X])\n",
        "test_X = pd.concat([test_fake_X, test_true_X])\n",
        "\n",
        "train_y = pd.concat([train_fake_y, train_true_y])\n",
        "val_y = pd.concat([val_fake_y, val_true_y])\n",
        "test_y = pd.concat([test_fake_y, test_true_y])\n",
        "\n",
        "train_y = pd.DataFrame(train_y)\n",
        "val_y = pd.DataFrame(val_y)\n",
        "test_y = pd.DataFrame(test_y)"
      ]
    },
    {
      "cell_type": "code",
      "execution_count": 37,
      "metadata": {
        "id": "uMCXQ4C4jsal"
      },
      "outputs": [],
      "source": [
        "train_X = train_X['text']\n",
        "val_X = val_X['text']\n",
        "test_X = test_X['text']"
      ]
    },
    {
      "cell_type": "code",
      "execution_count": 38,
      "metadata": {
        "colab": {
          "base_uri": "https://localhost:8080/"
        },
        "id": "o4Via1TXUtnk",
        "outputId": "cbc88117-ab35-4990-e345-93b7bb19e724"
      },
      "outputs": [
        {
          "data": {
            "text/plain": [
              "(35412,)"
            ]
          },
          "execution_count": 38,
          "metadata": {},
          "output_type": "execute_result"
        }
      ],
      "source": [
        "train_X.shape"
      ]
    },
    {
      "cell_type": "code",
      "execution_count": 39,
      "metadata": {
        "id": "VOQsdOBijsam"
      },
      "outputs": [],
      "source": [
        "from sklearn.feature_extraction.text import TfidfVectorizer\n",
        "\n",
        "vectorizer = TfidfVectorizer(max_features = 50000, lowercase=False, ngram_range=(1,2))\n",
        "train_X_vec = vectorizer.fit_transform(train_X)\n",
        "val_X_vec = vectorizer.transform(val_X)\n",
        "test_X_vec = vectorizer.transform(test_X)"
      ]
    },
    {
      "cell_type": "code",
      "execution_count": 40,
      "metadata": {
        "id": "mhODKZrYPqPI"
      },
      "outputs": [],
      "source": [
        "#import joblib\n",
        "\n",
        "#joblib.dump(vectorizer, 'tfidf_for_fakenews.pkl')"
      ]
    },
    {
      "cell_type": "code",
      "execution_count": 41,
      "metadata": {
        "colab": {
          "base_uri": "https://localhost:8080/"
        },
        "id": "6bp1rwuJ6Yh3",
        "outputId": "fe8cf51a-43bf-4186-f08b-fed726e11b58"
      },
      "outputs": [
        {
          "data": {
            "text/plain": [
              "array([[0., 0., 0., ..., 0., 0., 0.],\n",
              "       [0., 0., 0., ..., 0., 0., 0.],\n",
              "       [0., 0., 0., ..., 0., 0., 0.],\n",
              "       ...,\n",
              "       [0., 0., 0., ..., 0., 0., 0.],\n",
              "       [0., 0., 0., ..., 0., 0., 0.],\n",
              "       [0., 0., 0., ..., 0., 0., 0.]])"
            ]
          },
          "execution_count": 41,
          "metadata": {},
          "output_type": "execute_result"
        }
      ],
      "source": [
        "train_X_vec[:2048].toarray()"
      ]
    },
    {
      "cell_type": "code",
      "execution_count": 42,
      "metadata": {
        "colab": {
          "base_uri": "https://localhost:8080/"
        },
        "id": "K8zpKbnC9Dzs",
        "outputId": "9be0c296-5f11-42ab-ea1b-72674afc3caf"
      },
      "outputs": [
        {
          "name": "stdout",
          "output_type": "stream",
          "text": [
            "/content/smart-news-website\n"
          ]
        }
      ],
      "source": [
        "!pwd"
      ]
    },
    {
      "cell_type": "code",
      "execution_count": 68,
      "metadata": {
        "id": "ORKMf44eiE7l"
      },
      "outputs": [],
      "source": [
        "import torch\n",
        "import torch.nn as nn\n",
        "import torch.nn.functional as F\n",
        "\n",
        "class Model(nn.Module):\n",
        "    \n",
        "    def __init__(self, input_features=50000, hidden1=512, hidden2=128, hidden3=32, output_features=1):\n",
        "        super(Model, self).__init__()\n",
        "        self.fc1 = nn.Linear(input_features, hidden1)\n",
        "        self.fc2 = nn.Linear(hidden1, hidden2)\n",
        "        self.fc3 = nn.Linear(hidden2, hidden3)\n",
        "        self.out = nn.Linear(hidden3, output_features)\n",
        "\n",
        "    def forward(self, x):\n",
        "\n",
        "        x = F.relu(self.fc1(x))\n",
        "        x = F.relu(self.fc2(x))\n",
        "        x = F.relu(self.fc3(x))\n",
        "        x = self.out(x)\n",
        "        \n",
        "        return torch.sigmoid(x)"
      ]
    },
    {
      "cell_type": "code",
      "execution_count": 69,
      "metadata": {
        "colab": {
          "base_uri": "https://localhost:8080/"
        },
        "id": "S84fQGuS98lq",
        "outputId": "2e87de43-c084-4eef-e7b5-3e6befb122c1"
      },
      "outputs": [
        {
          "data": {
            "text/plain": [
              "<bound method Module.parameters of Model(\n",
              "  (fc1): Linear(in_features=50000, out_features=512, bias=True)\n",
              "  (fc2): Linear(in_features=512, out_features=128, bias=True)\n",
              "  (fc3): Linear(in_features=128, out_features=32, bias=True)\n",
              "  (out): Linear(in_features=32, out_features=1, bias=True)\n",
              ")>"
            ]
          },
          "execution_count": 69,
          "metadata": {},
          "output_type": "execute_result"
        }
      ],
      "source": [
        "fake_model = Model()\n",
        "fake_model.parameters"
      ]
    },
    {
      "cell_type": "code",
      "execution_count": 71,
      "metadata": {
        "colab": {
          "base_uri": "https://localhost:8080/"
        },
        "id": "SvONn6Wy-Frp",
        "outputId": "e851f12f-b01f-4055-e1a1-742a776874c1"
      },
      "outputs": [
        {
          "name": "stdout",
          "output_type": "stream",
          "text": [
            "Epoch #1; Batch #11\n",
            "Epoch #1; Batch #21\n",
            "Epoch #1; Batch #31\n",
            "Epoch Number: 1; Loss: 0.8484814763069153\n",
            "Epoch #2; Batch #11\n",
            "Epoch #2; Batch #21\n",
            "Epoch #2; Batch #31\n",
            "Epoch #3; Batch #11\n",
            "Epoch #3; Batch #21\n",
            "Epoch #3; Batch #31\n",
            "Epoch #4; Batch #11\n",
            "Epoch #4; Batch #21\n",
            "Epoch #4; Batch #31\n",
            "Epoch #5; Batch #11\n",
            "Epoch #5; Batch #21\n",
            "Epoch #5; Batch #31\n",
            "Epoch #6; Batch #11\n",
            "Epoch #6; Batch #21\n",
            "Epoch #6; Batch #31\n",
            "Epoch #7; Batch #11\n",
            "Epoch #7; Batch #21\n",
            "Epoch #7; Batch #31\n",
            "Epoch #8; Batch #11\n",
            "Epoch #8; Batch #21\n",
            "Epoch #8; Batch #31\n",
            "Epoch #9; Batch #11\n",
            "Epoch #9; Batch #21\n",
            "Epoch #9; Batch #31\n",
            "Epoch #10; Batch #11\n",
            "Epoch #10; Batch #21\n",
            "Epoch #10; Batch #31\n",
            "Epoch #11; Batch #11\n",
            "Epoch #11; Batch #21\n",
            "Epoch #11; Batch #31\n",
            "Epoch Number: 11; Loss: 0.002064896747469902\n",
            "Epoch #12; Batch #11\n",
            "Epoch #12; Batch #21\n",
            "Epoch #12; Batch #31\n",
            "Epoch #13; Batch #11\n",
            "Epoch #13; Batch #21\n",
            "Epoch #13; Batch #31\n",
            "Epoch #14; Batch #11\n",
            "Epoch #14; Batch #21\n",
            "Epoch #14; Batch #31\n",
            "Epoch #15; Batch #11\n",
            "Epoch #15; Batch #21\n",
            "Epoch #15; Batch #31\n",
            "Epoch #16; Batch #11\n",
            "Epoch #16; Batch #21\n",
            "Epoch #16; Batch #31\n",
            "Epoch #17; Batch #11\n",
            "Epoch #17; Batch #21\n",
            "Epoch #17; Batch #31\n",
            "Epoch #18; Batch #11\n",
            "Epoch #18; Batch #21\n",
            "Epoch #18; Batch #31\n",
            "Epoch #19; Batch #11\n",
            "Epoch #19; Batch #21\n",
            "Epoch #19; Batch #31\n",
            "Epoch #20; Batch #11\n",
            "Epoch #20; Batch #21\n",
            "Epoch #20; Batch #31\n",
            "Epoch #21; Batch #11\n",
            "Epoch #21; Batch #21\n",
            "Epoch #21; Batch #31\n",
            "Epoch Number: 21; Loss: 6.840137211838737e-05\n",
            "Epoch #22; Batch #11\n",
            "Epoch #22; Batch #21\n",
            "Epoch #22; Batch #31\n",
            "Epoch #23; Batch #11\n",
            "Epoch #23; Batch #21\n",
            "Epoch #23; Batch #31\n",
            "Epoch #24; Batch #11\n",
            "Epoch #24; Batch #21\n",
            "Epoch #24; Batch #31\n",
            "Epoch #25; Batch #11\n",
            "Epoch #25; Batch #21\n",
            "Epoch #25; Batch #31\n",
            "Epoch #26; Batch #11\n",
            "Epoch #26; Batch #21\n",
            "Epoch #26; Batch #31\n",
            "Epoch #27; Batch #11\n",
            "Epoch #27; Batch #21\n",
            "Epoch #27; Batch #31\n",
            "Epoch #28; Batch #11\n",
            "Epoch #28; Batch #21\n",
            "Epoch #28; Batch #31\n",
            "Epoch #29; Batch #11\n",
            "Epoch #29; Batch #21\n",
            "Epoch #29; Batch #31\n",
            "Epoch #30; Batch #11\n",
            "Epoch #30; Batch #21\n",
            "Epoch #30; Batch #31\n",
            "Epoch #31; Batch #11\n",
            "Epoch #31; Batch #21\n",
            "Epoch #31; Batch #31\n",
            "Epoch Number: 31; Loss: 1.529643668618519e-05\n",
            "Epoch #32; Batch #11\n",
            "Epoch #32; Batch #21\n",
            "Epoch #32; Batch #31\n",
            "Epoch #33; Batch #11\n",
            "Epoch #33; Batch #21\n",
            "Epoch #33; Batch #31\n",
            "Epoch #34; Batch #11\n",
            "Epoch #34; Batch #21\n",
            "Epoch #34; Batch #31\n",
            "Epoch #35; Batch #11\n",
            "Epoch #35; Batch #21\n",
            "Epoch #35; Batch #31\n",
            "Epoch #36; Batch #11\n",
            "Epoch #36; Batch #21\n",
            "Epoch #36; Batch #31\n",
            "Epoch #37; Batch #11\n",
            "Epoch #37; Batch #21\n",
            "Epoch #37; Batch #31\n",
            "Epoch #38; Batch #11\n",
            "Epoch #38; Batch #21\n",
            "Epoch #38; Batch #31\n",
            "Epoch #39; Batch #11\n",
            "Epoch #39; Batch #21\n",
            "Epoch #39; Batch #31\n",
            "Epoch #40; Batch #11\n",
            "Epoch #40; Batch #21\n",
            "Epoch #40; Batch #31\n",
            "Epoch #41; Batch #11\n",
            "Epoch #41; Batch #21\n",
            "Epoch #41; Batch #31\n",
            "Epoch Number: 41; Loss: 6.231699444469996e-06\n",
            "Epoch #42; Batch #11\n",
            "Epoch #42; Batch #21\n",
            "Epoch #42; Batch #31\n",
            "Epoch #43; Batch #11\n",
            "Epoch #43; Batch #21\n",
            "Epoch #43; Batch #31\n",
            "Epoch #44; Batch #11\n",
            "Epoch #44; Batch #21\n",
            "Epoch #44; Batch #31\n",
            "Epoch #45; Batch #11\n",
            "Epoch #45; Batch #21\n",
            "Epoch #45; Batch #31\n",
            "Epoch #46; Batch #11\n",
            "Epoch #46; Batch #21\n",
            "Epoch #46; Batch #31\n",
            "Epoch #47; Batch #11\n",
            "Epoch #47; Batch #21\n",
            "Epoch #47; Batch #31\n",
            "Epoch #48; Batch #11\n",
            "Epoch #48; Batch #21\n",
            "Epoch #48; Batch #31\n",
            "Epoch #49; Batch #11\n",
            "Epoch #49; Batch #21\n",
            "Epoch #49; Batch #31\n",
            "Epoch #50; Batch #11\n",
            "Epoch #50; Batch #21\n",
            "Epoch #50; Batch #31\n"
          ]
        }
      ],
      "source": [
        "epochs = 10\n",
        "learning_rate = 1e-3\n",
        "loss_fn = nn.BCELoss()\n",
        "optimizer = torch.optim.Adam(fake_model.parameters(), lr = learning_rate)\n",
        "batch_size = 1024\n",
        "\n",
        "final_losses = []\n",
        "\n",
        "for i in range(epochs):\n",
        "    \n",
        "    batch_idx = 0\n",
        "\n",
        "    while (batch_idx+1)*batch_size < train_X_vec.shape[0]:\n",
        "        \n",
        "        batch_X = train_X_vec[batch_idx*batch_size:(batch_idx+1)*batch_size].toarray()\n",
        "        batch_y = train_y[batch_idx*batch_size:(batch_idx+1)*batch_size]\n",
        "        y_pred = fake_model.forward(torch.Tensor(batch_X))\n",
        "\n",
        "        loss = loss_fn(y_pred, torch.Tensor(np.array(batch_y)))\n",
        "        final_losses.append(loss)\n",
        "\n",
        "        optimizer.zero_grad()\n",
        "        loss.backward()\n",
        "        optimizer.step()\n",
        "        batch_idx += 1\n",
        "        del batch_X\n",
        "        del batch_y\n",
        "\n",
        "        if batch_idx%10 == 0:\n",
        "            print(f'Epoch #{i+1}; Batch #{batch_idx+1}')\n",
        "\n",
        "    if i%10 == 0:\n",
        "        print(f'Epoch Number: {i+1}; Loss: {loss.item()}')\n",
        "        "
      ]
    },
    {
      "cell_type": "code",
      "execution_count": 72,
      "metadata": {
        "id": "HlWoQJuQwk68"
      },
      "outputs": [],
      "source": [
        "torch.save(fake_model, 'fake_model_l.pt')"
      ]
    },
    {
      "cell_type": "code",
      "execution_count": 75,
      "metadata": {
        "id": "ZdRzOWy-BBh4"
      },
      "outputs": [],
      "source": [
        "torch.save(fake_model.state_dict(), 'fake_model_state_dict.pt')"
      ]
    },
    {
      "cell_type": "markdown",
      "metadata": {
        "id": "_uFux4XmCPyk"
      },
      "source": [
        "## Evaluation"
      ]
    },
    {
      "cell_type": "code",
      "execution_count": 81,
      "metadata": {
        "colab": {
          "base_uri": "https://localhost:8080/",
          "height": 296
        },
        "id": "jYEhkOHECQ5R",
        "outputId": "137deb5f-258a-4de5-8529-0c016572837a"
      },
      "outputs": [
        {
          "data": {
            "text/plain": [
              "Text(0, 0.5, 'Loss')"
            ]
          },
          "execution_count": 81,
          "metadata": {},
          "output_type": "execute_result"
        },
        {
          "data": {
            "image/png": "[encoded data removed]",
            "text/plain": [
              "<Figure size 432x288 with 1 Axes>"
            ]
          },
          "metadata": {
            "needs_background": "light"
          },
          "output_type": "display_data"
        }
      ],
      "source": [
        "import matplotlib.pyplot as plt\n",
        "import seaborn as sns\n",
        "%matplotlib inline\n",
        "\n",
        "plt.plot(range(len(final_losses[:400])), final_losses[:400])\n",
        "plt.xlabel('Batches')\n",
        "plt.ylabel('Loss')"
      ]
    },
    {
      "cell_type": "code",
      "execution_count": 95,
      "metadata": {
        "id": "QwuFGylrCsZw"
      },
      "outputs": [],
      "source": [
        "y_pred = []\n",
        "\n",
        "for i, data in enumerate(torch.Tensor(val_X_vec.toarray())):\n",
        "    y_pred.append(int(fake_model(data)>0.5))"
      ]
    },
    {
      "cell_type": "code",
      "execution_count": 96,
      "metadata": {
        "colab": {
          "base_uri": "https://localhost:8080/"
        },
        "id": "QMys9BCLEBgl",
        "outputId": "aadee617-0ff7-49b1-8990-0d826730b952"
      },
      "outputs": [
        {
          "data": {
            "text/plain": [
              "4428"
            ]
          },
          "execution_count": 96,
          "metadata": {},
          "output_type": "execute_result"
        }
      ],
      "source": [
        "len(y_pred)"
      ]
    },
    {
      "cell_type": "code",
      "execution_count": 97,
      "metadata": {
        "colab": {
          "base_uri": "https://localhost:8080/"
        },
        "id": "d1wDXElzEiEV",
        "outputId": "e0f7d036-a15d-4d7c-bcfc-059d1b8bb0c4"
      },
      "outputs": [
        {
          "name": "stdout",
          "output_type": "stream",
          "text": [
            "[[2087   55]\n",
            " [   5 2281]]\n"
          ]
        }
      ],
      "source": [
        "from sklearn.metrics import classification_report, confusion_matrix\n",
        "\n",
        "print(confusion_matrix(val_y, y_pred))"
      ]
    },
    {
      "cell_type": "code",
      "execution_count": 98,
      "metadata": {
        "colab": {
          "base_uri": "https://localhost:8080/"
        },
        "id": "RPZF4SkLE7yI",
        "outputId": "5e8221ee-4dac-44a4-8feb-824a42d176d4"
      },
      "outputs": [
        {
          "name": "stdout",
          "output_type": "stream",
          "text": [
            "              precision    recall  f1-score   support\n",
            "\n",
            "           0       1.00      0.97      0.99      2142\n",
            "           1       0.98      1.00      0.99      2286\n",
            "\n",
            "    accuracy                           0.99      4428\n",
            "   macro avg       0.99      0.99      0.99      4428\n",
            "weighted avg       0.99      0.99      0.99      4428\n",
            "\n"
          ]
        }
      ],
      "source": [
        "print(classification_report(val_y, y_pred))"
      ]
    },
    {
      "cell_type": "code",
      "execution_count": 99,
      "metadata": {
        "id": "eDdAfJ-0GVL6"
      },
      "outputs": [],
      "source": [
        "y_pred = []\n",
        "\n",
        "for i, data in enumerate(torch.Tensor(test_X_vec.toarray())):\n",
        "    y_pred.append(int(fake_model(data)>0.5))"
      ]
    },
    {
      "cell_type": "code",
      "execution_count": 100,
      "metadata": {
        "colab": {
          "base_uri": "https://localhost:8080/"
        },
        "id": "WQoxG4uhGZhA",
        "outputId": "012e92aa-b6ae-4c4e-aa0d-e0c3a51b3415"
      },
      "outputs": [
        {
          "data": {
            "text/plain": [
              "4427"
            ]
          },
          "execution_count": 100,
          "metadata": {},
          "output_type": "execute_result"
        }
      ],
      "source": [
        "len(y_pred)"
      ]
    },
    {
      "cell_type": "code",
      "execution_count": 102,
      "metadata": {
        "colab": {
          "base_uri": "https://localhost:8080/"
        },
        "id": "iyN3CgizGZ02",
        "outputId": "3b7a53e9-a7ae-4164-9d06-a85a6a73fb6b"
      },
      "outputs": [
        {
          "name": "stdout",
          "output_type": "stream",
          "text": [
            "[[2086   56]\n",
            " [  11 2274]]\n"
          ]
        }
      ],
      "source": [
        "print(confusion_matrix(test_y, y_pred))"
      ]
    },
    {
      "cell_type": "code",
      "execution_count": 103,
      "metadata": {
        "colab": {
          "base_uri": "https://localhost:8080/"
        },
        "id": "HyYBmJOaGd05",
        "outputId": "77e29633-7d03-4ed0-e929-7a4562a8a192"
      },
      "outputs": [
        {
          "name": "stdout",
          "output_type": "stream",
          "text": [
            "              precision    recall  f1-score   support\n",
            "\n",
            "           0       0.99      0.97      0.98      2142\n",
            "           1       0.98      1.00      0.99      2285\n",
            "\n",
            "    accuracy                           0.98      4427\n",
            "   macro avg       0.99      0.98      0.98      4427\n",
            "weighted avg       0.99      0.98      0.98      4427\n",
            "\n"
          ]
        }
      ],
      "source": [
        "print(classification_report(test_y, y_pred))"
      ]
    }
  ],
  "metadata": {
    "colab": {
      "collapsed_sections": [],
      "name": "test.ipynb",
      "provenance": []
    },
    "interpreter": {
      "hash": "916dbcbb3f70747c44a77c7bcd40155683ae19c65e1c03b4aa3499c5328201f1"
    },
    "kernelspec": {
      "display_name": "Python 3.8.10 64-bit",
      "name": "python3"
    },
    "language_info": {
      "codemirror_mode": {
        "name": "ipython",
        "version": 3
      },
      "file_extension": ".py",
      "mimetype": "text/x-python",
      "name": "python",
      "nbconvert_exporter": "python",
      "pygments_lexer": "ipython3",
      "version": "3.8.10"
    },
    "orig_nbformat": 4
  },
  "nbformat": 4,
  "nbformat_minor": 0
}
