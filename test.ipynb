{
  "nbformat": 4,
  "nbformat_minor": 0,
  "metadata": {
    "interpreter": {
      "hash": "916dbcbb3f70747c44a77c7bcd40155683ae19c65e1c03b4aa3499c5328201f1"
    },
    "kernelspec": {
      "display_name": "Python 3.8.10 64-bit",
      "name": "python3"
    },
    "language_info": {
      "codemirror_mode": {
        "name": "ipython",
        "version": 3
      },
      "file_extension": ".py",
      "mimetype": "text/x-python",
      "name": "python",
      "nbconvert_exporter": "python",
      "pygments_lexer": "ipython3",
      "version": "3.8.10"
    },
    "orig_nbformat": 4,
    "colab": {
      "name": "test.ipynb",
      "provenance": [],
      "collapsed_sections": []
    }
  },
  "cells": [
    {
      "cell_type": "code",
      "metadata": {
        "id": "6lb2e6T-jsaH"
      },
      "source": [
        "import numpy as np\n",
        "import pandas as pd\n",
        "import csv"
      ],
      "execution_count": 1,
      "outputs": []
    },
    {
      "cell_type": "code",
      "metadata": {
        "id": "3K1BIPYuzsn4",
        "colab": {
          "base_uri": "https://localhost:8080/"
        },
        "outputId": "0bcd2a88-dff3-491e-c1a9-f009e654b909"
      },
      "source": [
        "from google.colab import drive\n",
        "drive.mount('/content/drive')"
      ],
      "execution_count": 2,
      "outputs": [
        {
          "output_type": "stream",
          "name": "stdout",
          "text": [
            "Mounted at /content/drive\n"
          ]
        }
      ]
    },
    {
      "cell_type": "code",
      "metadata": {
        "id": "FXJaytd3z7Zx"
      },
      "source": [
        "!cp -r drive/MyDrive/smart-news-website/ /content/smart-news-website"
      ],
      "execution_count": 3,
      "outputs": []
    },
    {
      "cell_type": "code",
      "metadata": {
        "id": "QeWZnP4R7-L0",
        "colab": {
          "base_uri": "https://localhost:8080/"
        },
        "outputId": "ef829eaf-da1e-4637-8067-a65f1807208e"
      },
      "source": [
        "%cd smart-news-website/"
      ],
      "execution_count": 4,
      "outputs": [
        {
          "output_type": "stream",
          "name": "stdout",
          "text": [
            "/content/smart-news-website\n"
          ]
        }
      ]
    },
    {
      "cell_type": "code",
      "metadata": {
        "colab": {
          "base_uri": "https://localhost:8080/"
        },
        "id": "_IXbTLF91d2S",
        "outputId": "2656648a-5838-4cb0-e397-04db5034a59d"
      },
      "source": [
        "import nltk\n",
        "nltk.download('stopwords')"
      ],
      "execution_count": null,
      "outputs": [
        {
          "output_type": "stream",
          "name": "stdout",
          "text": [
            "[nltk_data] Downloading package stopwords to /root/nltk_data...\n",
            "[nltk_data]   Package stopwords is already up-to-date!\n"
          ]
        },
        {
          "output_type": "execute_result",
          "data": {
            "text/plain": [
              "True"
            ]
          },
          "metadata": {},
          "execution_count": 32
        }
      ]
    },
    {
      "cell_type": "code",
      "metadata": {
        "id": "QALyVHDIjsaR"
      },
      "source": [
        "fake_news = pd.read_csv('/content/smart-news-website/FakeNews/Fake.csv')\n",
        "true_news = pd.read_csv('/content/smart-news-website/FakeNews/True.csv')"
      ],
      "execution_count": null,
      "outputs": []
    },
    {
      "cell_type": "code",
      "metadata": {
        "colab": {
          "base_uri": "https://localhost:8080/"
        },
        "id": "-4RzZe6DClOr",
        "outputId": "e39b325c-b9f6-4a78-eca2-daae80e4d98f"
      },
      "source": [
        "fake_news = fake_news['text']\n",
        "true_news = true_news['text']\n",
        "\n",
        "fake_news"
      ],
      "execution_count": null,
      "outputs": [
        {
          "output_type": "execute_result",
          "data": {
            "text/plain": [
              "0        Donald Trump just couldn t wish all Americans ...\n",
              "1        House Intelligence Committee Chairman Devin Nu...\n",
              "2        On Friday, it was revealed that former Milwauk...\n",
              "3        On Christmas day, Donald Trump announced that ...\n",
              "4        Pope Francis used his annual Christmas Day mes...\n",
              "                               ...                        \n",
              "23476    21st Century Wire says As 21WIRE reported earl...\n",
              "23477    21st Century Wire says It s a familiar theme. ...\n",
              "23478    Patrick Henningsen  21st Century WireRemember ...\n",
              "23479    21st Century Wire says Al Jazeera America will...\n",
              "23480    21st Century Wire says As 21WIRE predicted in ...\n",
              "Name: text, Length: 23481, dtype: object"
            ]
          },
          "metadata": {},
          "execution_count": 34
        }
      ]
    },
    {
      "cell_type": "code",
      "metadata": {
        "id": "3NAse6gfjsac",
        "colab": {
          "base_uri": "https://localhost:8080/"
        },
        "outputId": "231635c7-1141-4dd6-a8cd-134201461c88"
      },
      "source": [
        "from data import PreProcessor\n",
        "\n",
        "preproc = PreProcessor()\n",
        "\n",
        "fake_news = fake_news.apply(preproc.forward)\n",
        "true_news = true_news.apply(preproc.forward)\n",
        "\n",
        "fake_news.head()"
      ],
      "execution_count": null,
      "outputs": [
        {
          "output_type": "execute_result",
          "data": {
            "text/plain": [
              "0    donald trump wish americans happy new year lea...\n",
              "1    house intelligence committee chairman devin nu...\n",
              "2    friday -PRON- reveal former milwaukee sheriff ...\n",
              "3    christmas day donald trump announce -PRON- wou...\n",
              "4    pope francis use -PRON- annual christmas day m...\n",
              "Name: text, dtype: object"
            ]
          },
          "metadata": {},
          "execution_count": 35
        }
      ]
    },
    {
      "cell_type": "code",
      "metadata": {
        "id": "EL1cS0dgCvk2"
      },
      "source": [
        "fake_news = pd.DataFrame(fake_news)\n",
        "true_news = pd.DataFrame(true_news)\n",
        "\n",
        "fake_news = fake_news.assign(is_fake = [1]*len(fake_news))\n",
        "true_news = true_news.assign(is_fake = [0]*len(true_news))"
      ],
      "execution_count": null,
      "outputs": []
    },
    {
      "cell_type": "code",
      "metadata": {
        "id": "6IiUwTTpjsae",
        "colab": {
          "base_uri": "https://localhost:8080/",
          "height": 207
        },
        "outputId": "2a59c747-4b63-4c82-d3aa-1134410fc145"
      },
      "source": [
        "fake_news.head()"
      ],
      "execution_count": null,
      "outputs": [
        {
          "output_type": "execute_result",
          "data": {
            "text/html": [
              "<div>\n",
              "<style scoped>\n",
              "    .dataframe tbody tr th:only-of-type {\n",
              "        vertical-align: middle;\n",
              "    }\n",
              "\n",
              "    .dataframe tbody tr th {\n",
              "        vertical-align: top;\n",
              "    }\n",
              "\n",
              "    .dataframe thead th {\n",
              "        text-align: right;\n",
              "    }\n",
              "</style>\n",
              "<table border=\"1\" class=\"dataframe\">\n",
              "  <thead>\n",
              "    <tr style=\"text-align: right;\">\n",
              "      <th></th>\n",
              "      <th>text</th>\n",
              "      <th>is_fake</th>\n",
              "    </tr>\n",
              "  </thead>\n",
              "  <tbody>\n",
              "    <tr>\n",
              "      <th>0</th>\n",
              "      <td>donald trump wish americans happy new year lea...</td>\n",
              "      <td>1</td>\n",
              "    </tr>\n",
              "    <tr>\n",
              "      <th>1</th>\n",
              "      <td>house intelligence committee chairman devin nu...</td>\n",
              "      <td>1</td>\n",
              "    </tr>\n",
              "    <tr>\n",
              "      <th>2</th>\n",
              "      <td>friday -PRON- reveal former milwaukee sheriff ...</td>\n",
              "      <td>1</td>\n",
              "    </tr>\n",
              "    <tr>\n",
              "      <th>3</th>\n",
              "      <td>christmas day donald trump announce -PRON- wou...</td>\n",
              "      <td>1</td>\n",
              "    </tr>\n",
              "    <tr>\n",
              "      <th>4</th>\n",
              "      <td>pope francis use -PRON- annual christmas day m...</td>\n",
              "      <td>1</td>\n",
              "    </tr>\n",
              "  </tbody>\n",
              "</table>\n",
              "</div>"
            ],
            "text/plain": [
              "                                                text  is_fake\n",
              "0  donald trump wish americans happy new year lea...        1\n",
              "1  house intelligence committee chairman devin nu...        1\n",
              "2  friday -PRON- reveal former milwaukee sheriff ...        1\n",
              "3  christmas day donald trump announce -PRON- wou...        1\n",
              "4  pope francis use -PRON- annual christmas day m...        1"
            ]
          },
          "metadata": {},
          "execution_count": 37
        }
      ]
    },
    {
      "cell_type": "code",
      "metadata": {
        "id": "H2kUtPorO8-_"
      },
      "source": [
        "fake_news.to_csv('Fake_news_preprocessed.csv')\n",
        "true_news.to_csv('True_news_preprocessed.csv')"
      ],
      "execution_count": null,
      "outputs": []
    },
    {
      "cell_type": "markdown",
      "metadata": {
        "id": "bKPAXMJ0USI0"
      },
      "source": [
        "## Checkpoint Preprocessing done"
      ]
    },
    {
      "cell_type": "code",
      "metadata": {
        "id": "SZ5nbt2HURD7"
      },
      "source": [
        "import pandas as pd\n",
        "fake_news = pd.read_csv('/content/smart-news-website/Fake_news_preprocessed.csv')\n",
        "true_news = pd.read_csv('/content/smart-news-website/True_news_preprocessed.csv')"
      ],
      "execution_count": 5,
      "outputs": []
    },
    {
      "cell_type": "code",
      "metadata": {
        "id": "xE_Z0GmqjEJM"
      },
      "source": [
        "fake_news.dropna(axis=0, inplace=True)\n",
        "true_news.dropna(axis=0, inplace=True)"
      ],
      "execution_count": 6,
      "outputs": []
    },
    {
      "cell_type": "code",
      "metadata": {
        "id": "hZsbHd3ujsai"
      },
      "source": [
        "from sklearn.model_selection import train_test_split\n",
        "\n",
        "train_fake_X, t_fake_X, train_fake_y, t_fake_y = train_test_split(fake_news.drop('is_fake', axis=1), fake_news['is_fake'], test_size=0.2, random_state=101)\n",
        "test_fake_X, val_fake_X, test_fake_y, val_fake_y = train_test_split(t_fake_X, t_fake_y, test_size=0.5, random_state=101)\n",
        "\n",
        "train_true_X, t_true_X, train_true_y, t_true_y = train_test_split(true_news.drop('is_fake', axis=1), true_news['is_fake'], test_size=0.2, random_state=101)\n",
        "test_true_X, val_true_X, test_true_y, val_true_y = train_test_split(t_true_X, t_true_y, test_size=0.5, random_state=101)"
      ],
      "execution_count": 7,
      "outputs": []
    },
    {
      "cell_type": "code",
      "metadata": {
        "id": "Wk6cUPChjsak"
      },
      "source": [
        "# Joining fake and true dataframes\n",
        "\n",
        "train_X = pd.concat([train_fake_X, train_true_X])\n",
        "val_X = pd.concat([val_fake_X, val_true_X])\n",
        "test_X = pd.concat([test_fake_X, test_true_X])\n",
        "\n",
        "train_y = pd.concat([train_fake_y, train_true_y])\n",
        "val_y = pd.concat([val_fake_y, val_true_y])\n",
        "test_y = pd.concat([test_fake_y, test_true_y])\n",
        "\n",
        "train_y = pd.DataFrame(train_y)\n",
        "val_y = pd.DataFrame(val_y)\n",
        "test_y = pd.DataFrame(test_y)"
      ],
      "execution_count": 8,
      "outputs": []
    },
    {
      "cell_type": "code",
      "metadata": {
        "id": "uMCXQ4C4jsal"
      },
      "source": [
        "train_X = train_X['text']\n",
        "val_X = val_X['text']\n",
        "test_X = test_X['text']"
      ],
      "execution_count": 9,
      "outputs": []
    },
    {
      "cell_type": "code",
      "metadata": {
        "colab": {
          "base_uri": "https://localhost:8080/"
        },
        "id": "o4Via1TXUtnk",
        "outputId": "62d7bf35-0e27-4cf6-fa09-1b5045922259"
      },
      "source": [
        "train_X.shape"
      ],
      "execution_count": 10,
      "outputs": [
        {
          "output_type": "execute_result",
          "data": {
            "text/plain": [
              "(35412,)"
            ]
          },
          "metadata": {},
          "execution_count": 10
        }
      ]
    },
    {
      "cell_type": "code",
      "metadata": {
        "id": "VOQsdOBijsam"
      },
      "source": [
        "from sklearn.feature_extraction.text import TfidfVectorizer\n",
        "\n",
        "vectorizer = TfidfVectorizer(max_features = 50000, lowercase=False, ngram_range=(1,2))\n",
        "train_X_vec = vectorizer.fit_transform(train_X)\n",
        "val_X_vec = vectorizer.transform(val_X)\n",
        "test_X_vec = vectorizer.transform(test_X)"
      ],
      "execution_count": 11,
      "outputs": []
    },
    {
      "cell_type": "code",
      "metadata": {
        "id": "mhODKZrYPqPI"
      },
      "source": [
        "#import joblib\n",
        "\n",
        "#joblib.dump(vectorizer, 'tfidf_for_fakenews.pkl')"
      ],
      "execution_count": 12,
      "outputs": []
    },
    {
      "cell_type": "code",
      "metadata": {
        "colab": {
          "base_uri": "https://localhost:8080/"
        },
        "id": "6bp1rwuJ6Yh3",
        "outputId": "9f841a42-fa51-451e-d74b-409dd730a29b"
      },
      "source": [
        "train_X_vec[:2048].toarray()"
      ],
      "execution_count": 23,
      "outputs": [
        {
          "output_type": "execute_result",
          "data": {
            "text/plain": [
              "array([[0., 0., 0., ..., 0., 0., 0.],\n",
              "       [0., 0., 0., ..., 0., 0., 0.],\n",
              "       [0., 0., 0., ..., 0., 0., 0.],\n",
              "       ...,\n",
              "       [0., 0., 0., ..., 0., 0., 0.],\n",
              "       [0., 0., 0., ..., 0., 0., 0.],\n",
              "       [0., 0., 0., ..., 0., 0., 0.]])"
            ]
          },
          "metadata": {},
          "execution_count": 23
        }
      ]
    },
    {
      "cell_type": "code",
      "metadata": {
        "id": "JnrDtCWG_Tc4"
      },
      "source": [
        "batch_idx = 0\n",
        "batch_size = 1024\n"
      ],
      "execution_count": 22,
      "outputs": []
    },
    {
      "cell_type": "code",
      "metadata": {
        "colab": {
          "base_uri": "https://localhost:8080/"
        },
        "id": "K8zpKbnC9Dzs",
        "outputId": "409993ed-9e83-48a5-b2ac-63543b3abf2c"
      },
      "source": [
        "!pwd"
      ],
      "execution_count": 13,
      "outputs": [
        {
          "output_type": "stream",
          "name": "stdout",
          "text": [
            "/content/smart-news-website\n"
          ]
        }
      ]
    },
    {
      "cell_type": "code",
      "metadata": {
        "id": "ORKMf44eiE7l"
      },
      "source": [
        "import torch\n",
        "import torch.nn as nn\n",
        "import torch.nn.functional as F\n",
        "\n",
        "class Model(nn.Module):\n",
        "    \n",
        "    def __init__(self, input_features=50000, hidden1=512, hidden2=128, hidden3=32, output_features=2):\n",
        "        super(Model, self).__init__()\n",
        "        self.fc1 = nn.Linear(input_features, hidden1)\n",
        "        self.fc2 = nn.Linear(hidden1, hidden2)\n",
        "        self.fc3 = nn.Linear(hidden2, hidden3)\n",
        "        self.out = nn.Linear(hidden3, output_features)\n",
        "\n",
        "    def forward(self, x):\n",
        "\n",
        "        x = F.relu(self.fc1(x))\n",
        "        x = F.relu(self.fc2(x))\n",
        "        x = F.relu(self.fc3(x))\n",
        "        x = self.out(x)\n",
        "        \n",
        "        return x"
      ],
      "execution_count": 16,
      "outputs": []
    },
    {
      "cell_type": "code",
      "metadata": {
        "colab": {
          "base_uri": "https://localhost:8080/"
        },
        "id": "S84fQGuS98lq",
        "outputId": "80d20057-4f96-4bfb-ebb9-f203bb01c672"
      },
      "source": [
        "fake_model = Model()\n",
        "fake_model.parameters"
      ],
      "execution_count": 18,
      "outputs": [
        {
          "output_type": "execute_result",
          "data": {
            "text/plain": [
              "<bound method Module.parameters of Model(\n",
              "  (fc1): Linear(in_features=50000, out_features=512, bias=True)\n",
              "  (fc2): Linear(in_features=512, out_features=128, bias=True)\n",
              "  (fc3): Linear(in_features=128, out_features=32, bias=True)\n",
              "  (out): Linear(in_features=32, out_features=2, bias=True)\n",
              ")>"
            ]
          },
          "metadata": {},
          "execution_count": 18
        }
      ]
    },
    {
      "cell_type": "code",
      "metadata": {
        "id": "SvONn6Wy-Frp"
      },
      "source": [
        "epochs = 50\n",
        "learning_rate = 1e-3\n",
        "batch_idx = 0\n",
        "loss_fn = nn.CrossEntropyLoss()\n",
        "optimizer = torch.optim.Adam(model.parameters(), lr = learning_rate)\n",
        "batch_size = 1024\n",
        "\n",
        "final_losses = []\n",
        "\n",
        "for i in range(epochs):\n",
        "\n",
        "    batch_X = \n",
        "\n",
        "    while True:\n",
        "        \n",
        "        y_pred = model.forward(batch_X)"
      ],
      "execution_count": null,
      "outputs": []
    }
  ]
}